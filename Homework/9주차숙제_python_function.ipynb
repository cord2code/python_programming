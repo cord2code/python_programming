{
 "cells": [
  {
   "cell_type": "markdown",
   "id": "68b705d6-2718-4588-bf82-3710adebae16",
   "metadata": {},
   "source": [
    "># 9주차 숙제\n",
    "### 최승호 24 석사 / 학번: 2024158814\n",
    "- 강의 교안 p.4 ~  p. 24 까지의 코드를 모두 따라서 코딩하고 실행"
   ]
  },
  {
   "cell_type": "code",
   "execution_count": 1,
   "id": "b7f02a26-bb93-4cf7-90a0-c40df13fe5ab",
   "metadata": {},
   "outputs": [],
   "source": [
    "a = []\n",
    "for i in [1, 2, 3]:\n",
    "    a.append(i+1)"
   ]
  },
  {
   "cell_type": "code",
   "execution_count": 2,
   "id": "740b9be5-3a0f-494a-bf51-ba50f7267082",
   "metadata": {},
   "outputs": [
    {
     "data": {
      "text/plain": [
       "[2, 3, 4]"
      ]
     },
     "execution_count": 2,
     "metadata": {},
     "output_type": "execute_result"
    }
   ],
   "source": [
    "a"
   ]
  },
  {
   "cell_type": "code",
   "execution_count": 5,
   "id": "1dee1649-6e46-4413-bb29-f56c10ff6a20",
   "metadata": {},
   "outputs": [],
   "source": [
    "def calcul(i):\n",
    "    c = i*2*3+i\n",
    "    return c"
   ]
  },
  {
   "cell_type": "code",
   "execution_count": 6,
   "id": "8fa813bf-f351-4d36-90a8-813066c3ee3e",
   "metadata": {},
   "outputs": [],
   "source": [
    "b = [calcul(i) for i in [1, 2, 3]]"
   ]
  },
  {
   "cell_type": "code",
   "execution_count": 7,
   "id": "37898018-1497-4185-9a84-6cdaa1f5dd87",
   "metadata": {},
   "outputs": [
    {
     "data": {
      "text/plain": [
       "[7, 14, 21]"
      ]
     },
     "execution_count": 7,
     "metadata": {},
     "output_type": "execute_result"
    }
   ],
   "source": [
    "b"
   ]
  },
  {
   "cell_type": "code",
   "execution_count": 9,
   "id": "3b9ed807-e191-413c-b2cf-a9763e8a092a",
   "metadata": {},
   "outputs": [
    {
     "data": {
      "text/plain": [
       "[3]"
      ]
     },
     "execution_count": 9,
     "metadata": {},
     "output_type": "execute_result"
    }
   ],
   "source": [
    "[i+1 for i in [1, 2, 3] if i%2==0 ]"
   ]
  },
  {
   "cell_type": "code",
   "execution_count": 11,
   "id": "e09bc367-db38-45ba-ac83-4df9595d9584",
   "metadata": {},
   "outputs": [],
   "source": [
    "a = []\n",
    "for i in [1, 2, 3]:\n",
    "    if i%2==0:\n",
    "        a.append(i+1)"
   ]
  },
  {
   "cell_type": "code",
   "execution_count": 12,
   "id": "1586a600-f4ca-4285-a85e-690e287c5fce",
   "metadata": {},
   "outputs": [
    {
     "data": {
      "text/plain": [
       "[3]"
      ]
     },
     "execution_count": 12,
     "metadata": {},
     "output_type": "execute_result"
    }
   ],
   "source": [
    "a"
   ]
  },
  {
   "cell_type": "code",
   "execution_count": 13,
   "id": "653d4115-9393-4332-82a9-5809667117a4",
   "metadata": {},
   "outputs": [],
   "source": [
    "f = [1, 2, 3, 4, 5]"
   ]
  },
  {
   "cell_type": "code",
   "execution_count": 14,
   "id": "5ef1d93b-f0aa-467c-9742-b0ae6da5054b",
   "metadata": {},
   "outputs": [
    {
     "data": {
      "text/plain": [
       "[1, 2, 3, 4, 5]"
      ]
     },
     "execution_count": 14,
     "metadata": {},
     "output_type": "execute_result"
    }
   ],
   "source": [
    "f"
   ]
  },
  {
   "cell_type": "code",
   "execution_count": 92,
   "id": "7f1c4892-e703-4727-a811-4c97c6180cb5",
   "metadata": {},
   "outputs": [],
   "source": [
    "# 1부터 5까지의 정수 리스트 만들기\n",
    "number_list = []\n",
    "number_list.append(1)\n",
    "number_list.append(2)\n",
    "number_list.append(3)\n",
    "number_list.append(4)\n",
    "number_list.append(5)"
   ]
  },
  {
   "cell_type": "code",
   "execution_count": 16,
   "id": "24ab15a0-ace4-4236-bc53-e1def220de6f",
   "metadata": {},
   "outputs": [
    {
     "data": {
      "text/plain": [
       "[1, 2, 3, 4, 5]"
      ]
     },
     "execution_count": 16,
     "metadata": {},
     "output_type": "execute_result"
    }
   ],
   "source": [
    "number_list"
   ]
  },
  {
   "cell_type": "code",
   "execution_count": 17,
   "id": "9ea18d20-c933-4c87-a597-1c6920feab23",
   "metadata": {},
   "outputs": [],
   "source": [
    "number_list = []\n",
    "for number in range(1, 6):\n",
    "    number_list.append(number)"
   ]
  },
  {
   "cell_type": "code",
   "execution_count": 18,
   "id": "e1f80c75-e656-41b8-be6c-f11f26fc611f",
   "metadata": {},
   "outputs": [
    {
     "data": {
      "text/plain": [
       "[1, 2, 3, 4, 5]"
      ]
     },
     "execution_count": 18,
     "metadata": {},
     "output_type": "execute_result"
    }
   ],
   "source": [
    "number_list"
   ]
  },
  {
   "cell_type": "code",
   "execution_count": 93,
   "id": "c82e9a76-a8b6-4c2d-8f58-ca48388f5537",
   "metadata": {},
   "outputs": [],
   "source": [
    "# • 1부터 5까지의 정수 리스트 만들기 – List comprehension\n",
    "number_list = [number for number in range(1, 6)]"
   ]
  },
  {
   "cell_type": "code",
   "execution_count": 20,
   "id": "ebe24a63-f366-472d-bb05-5472990cf71a",
   "metadata": {},
   "outputs": [
    {
     "data": {
      "text/plain": [
       "[1, 2, 3, 4, 5]"
      ]
     },
     "execution_count": 20,
     "metadata": {},
     "output_type": "execute_result"
    }
   ],
   "source": [
    "number_list"
   ]
  },
  {
   "cell_type": "code",
   "execution_count": 94,
   "id": "acba3337-ffe3-4339-b31b-2ff3d341cbd0",
   "metadata": {},
   "outputs": [],
   "source": [
    "# 함수 적용\n",
    "number_list = [number-1 for number in range(1, 6)]"
   ]
  },
  {
   "cell_type": "code",
   "execution_count": 22,
   "id": "d4806f58-e87a-408f-981a-10467abe1acd",
   "metadata": {},
   "outputs": [
    {
     "data": {
      "text/plain": [
       "[0, 1, 2, 3, 4]"
      ]
     },
     "execution_count": 22,
     "metadata": {},
     "output_type": "execute_result"
    }
   ],
   "source": [
    "number_list"
   ]
  },
  {
   "cell_type": "code",
   "execution_count": 95,
   "id": "dff5382a-cbe0-4815-b9e5-865e5f9cc59c",
   "metadata": {},
   "outputs": [],
   "source": [
    "# 조건 적용\n",
    "a_list = [number for number in range(1, 6) if number % 2 == 1]"
   ]
  },
  {
   "cell_type": "code",
   "execution_count": 24,
   "id": "52e9f77c-9719-43f0-9932-83bf55db6979",
   "metadata": {
    "scrolled": true
   },
   "outputs": [
    {
     "data": {
      "text/plain": [
       "[1, 3, 5]"
      ]
     },
     "execution_count": 24,
     "metadata": {},
     "output_type": "execute_result"
    }
   ],
   "source": [
    "a_list"
   ]
  },
  {
   "cell_type": "code",
   "execution_count": 97,
   "id": "72c99050-2b88-46fe-ad50-c22efbcb0cec",
   "metadata": {},
   "outputs": [],
   "source": [
    "# for 문을 사용한다면\n",
    "a_list = []\n",
    "for number in range(1,6):\n",
    "    if number%2 == 1:\n",
    "        a_list.append(number)"
   ]
  },
  {
   "cell_type": "code",
   "execution_count": 26,
   "id": "f32543ca-0660-4c50-8bb4-dec33945d3aa",
   "metadata": {},
   "outputs": [],
   "source": [
    "word = 'Python'"
   ]
  },
  {
   "cell_type": "code",
   "execution_count": 27,
   "id": "aeb74b28-2a33-4ff4-91fe-a8fbf56f2ae8",
   "metadata": {},
   "outputs": [
    {
     "data": {
      "text/plain": [
       "'python'"
      ]
     },
     "execution_count": 27,
     "metadata": {},
     "output_type": "execute_result"
    }
   ],
   "source": [
    "word.lower()"
   ]
  },
  {
   "cell_type": "code",
   "execution_count": 98,
   "id": "55363be6-4c8e-4edf-b4ad-3d60abecfc9b",
   "metadata": {},
   "outputs": [],
   "source": [
    "# List Comprehension 예제\n",
    "sentence = ['I', 'Love', 'Python', 'Soooooo', 'MUCH!!!']"
   ]
  },
  {
   "cell_type": "code",
   "execution_count": 28,
   "id": "a08d9dee-9d28-4aff-a17d-33461a8673b0",
   "metadata": {},
   "outputs": [
    {
     "data": {
      "text/plain": [
       "['I', 'Love', 'Python', 'Soooooo', 'MUCH!!!']"
      ]
     },
     "execution_count": 28,
     "metadata": {},
     "output_type": "execute_result"
    }
   ],
   "source": [
    "sentence"
   ]
  },
  {
   "cell_type": "code",
   "execution_count": 100,
   "id": "4d8224c2-0e8a-47a1-b7fe-adf518d5f114",
   "metadata": {},
   "outputs": [
    {
     "data": {
      "text/plain": [
       "['i', 'love', 'python', 'soooooo', 'much!!!']"
      ]
     },
     "execution_count": 100,
     "metadata": {},
     "output_type": "execute_result"
    }
   ],
   "source": [
    "# 함수 적용\n",
    "[word.lower() for word in sentence]"
   ]
  },
  {
   "cell_type": "code",
   "execution_count": 101,
   "id": "d10580c5-eb8c-4070-a5aa-fc128ad6673d",
   "metadata": {},
   "outputs": [
    {
     "data": {
      "text/plain": [
       "['soooooo', 'much!!!']"
      ]
     },
     "execution_count": 101,
     "metadata": {},
     "output_type": "execute_result"
    }
   ],
   "source": [
    "# 조건 적용\n",
    "[word.lower() for word in sentence if len(word) > 6]"
   ]
  },
  {
   "cell_type": "code",
   "execution_count": 32,
   "id": "7131b760-727a-45f7-8246-4ebb7c254d09",
   "metadata": {},
   "outputs": [
    {
     "data": {
      "text/plain": [
       "['python', 'soooooo', 'much!!!']"
      ]
     },
     "execution_count": 32,
     "metadata": {},
     "output_type": "execute_result"
    }
   ],
   "source": [
    "[word.lower() for word in sentence if len(word) > 5]"
   ]
  },
  {
   "cell_type": "code",
   "execution_count": 33,
   "id": "54b96207-071a-4e92-a8f9-fed01580ff8b",
   "metadata": {},
   "outputs": [
    {
     "data": {
      "text/plain": [
       "['PYTHON', 'SOOOOOO', 'MUCH!!!']"
      ]
     },
     "execution_count": 33,
     "metadata": {},
     "output_type": "execute_result"
    }
   ],
   "source": [
    "[word.upper() for word in sentence if len(word) > 5]"
   ]
  },
  {
   "cell_type": "code",
   "execution_count": 31,
   "id": "3ee30556-6b07-4fe7-b4cc-146c5524dfb6",
   "metadata": {},
   "outputs": [
    {
     "data": {
      "text/plain": [
       "[(0, 0, 0),\n",
       " (1, 1, 1),\n",
       " (2, 4, 8),\n",
       " (3, 9, 27),\n",
       " (4, 16, 64),\n",
       " (5, 25, 125),\n",
       " (6, 36, 216),\n",
       " (7, 49, 343),\n",
       " (8, 64, 512),\n",
       " (9, 81, 729)]"
      ]
     },
     "execution_count": 31,
     "metadata": {},
     "output_type": "execute_result"
    }
   ],
   "source": [
    "# 함수 적용하여 튜플로 저장\n",
    "[(x, x ** 2, x ** 3) for x in range(10)]"
   ]
  },
  {
   "cell_type": "code",
   "execution_count": 34,
   "id": "9642075f-7c83-48e4-b393-68fb279fcfb0",
   "metadata": {},
   "outputs": [
    {
     "data": {
      "text/plain": [
       "[0, 1, 2, 3, 4, 5, 6, 7, 8, 9]"
      ]
     },
     "execution_count": 34,
     "metadata": {},
     "output_type": "execute_result"
    }
   ],
   "source": [
    "list(range(10))"
   ]
  },
  {
   "cell_type": "code",
   "execution_count": 38,
   "id": "a800413e-68e3-4226-badb-cb6971858847",
   "metadata": {},
   "outputs": [
    {
     "data": {
      "text/plain": [
       "[(-1, 1),\n",
       " (0, 2),\n",
       " (1, 3),\n",
       " (2, 4),\n",
       " (3, 5),\n",
       " (4, 6),\n",
       " (5, 7),\n",
       " (6, 8),\n",
       " (7, 9),\n",
       " (8, 10)]"
      ]
     },
     "execution_count": 38,
     "metadata": {},
     "output_type": "execute_result"
    }
   ],
   "source": [
    "[(x-1, x+1) for x in range(10)]"
   ]
  },
  {
   "cell_type": "code",
   "execution_count": 102,
   "id": "7b829616-b467-4472-ac23-d350ce731002",
   "metadata": {},
   "outputs": [
    {
     "name": "stdout",
     "output_type": "stream",
     "text": [
      "1 1\n",
      "1 2\n",
      "2 1\n",
      "2 2\n",
      "3 1\n",
      "3 2\n"
     ]
    }
   ],
   "source": [
    "# List Comprehension – 두 개의 for\n",
    "rows = range(1,4)\n",
    "cols = range(1,3)\n",
    "\n",
    "for row in rows:\n",
    "    for col in cols:\n",
    "        print(row, col)"
   ]
  },
  {
   "cell_type": "code",
   "execution_count": 103,
   "id": "0f5c973a-2617-4060-8ff2-6d67dbc38ac1",
   "metadata": {},
   "outputs": [
    {
     "name": "stdout",
     "output_type": "stream",
     "text": [
      "(1, 1)\n",
      "(1, 2)\n",
      "(2, 1)\n",
      "(2, 2)\n",
      "(3, 1)\n",
      "(3, 2)\n"
     ]
    }
   ],
   "source": [
    "# 위를 리스트 내포로 작성해보자\n",
    "cells = [(row, col) for row in rows for col in cols]\n",
    "for cell in cells:\n",
    "    print(cell)"
   ]
  },
  {
   "cell_type": "code",
   "execution_count": 105,
   "id": "527a2d82-d2b1-4f45-b908-738af468d88e",
   "metadata": {},
   "outputs": [
    {
     "data": {
      "text/plain": [
       "[(1, 0),\n",
       " (2, 0),\n",
       " (2, 1),\n",
       " (3, 0),\n",
       " (3, 1),\n",
       " (3, 2),\n",
       " (4, 0),\n",
       " (4, 1),\n",
       " (4, 2),\n",
       " (4, 3)]"
      ]
     },
     "execution_count": 105,
     "metadata": {},
     "output_type": "execute_result"
    }
   ],
   "source": [
    "# 다음은 어떤 결과가?\n",
    "[(i, j) for i in range(5) for j in range(i)]"
   ]
  },
  {
   "cell_type": "code",
   "execution_count": 47,
   "id": "5310f0ea-7634-42c3-be28-d2b6af4b8a74",
   "metadata": {},
   "outputs": [],
   "source": [
    "word = 'letters'"
   ]
  },
  {
   "cell_type": "code",
   "execution_count": 48,
   "id": "7e647a4c-414e-4723-b03c-b892dd85c222",
   "metadata": {},
   "outputs": [
    {
     "data": {
      "text/plain": [
       "'letters'"
      ]
     },
     "execution_count": 48,
     "metadata": {},
     "output_type": "execute_result"
    }
   ],
   "source": [
    "word"
   ]
  },
  {
   "cell_type": "code",
   "execution_count": 49,
   "id": "7846cede-7292-408d-9e64-3e24d06e85a7",
   "metadata": {},
   "outputs": [
    {
     "name": "stdout",
     "output_type": "stream",
     "text": [
      "l\n",
      "e\n",
      "t\n",
      "t\n",
      "e\n",
      "r\n",
      "s\n"
     ]
    }
   ],
   "source": [
    "for letter in word:\n",
    "    print(letter)"
   ]
  },
  {
   "cell_type": "code",
   "execution_count": 50,
   "id": "7556a2b1-5ca9-48da-9be3-55072f1a849e",
   "metadata": {},
   "outputs": [
    {
     "data": {
      "text/plain": [
       "'LETTERS'"
      ]
     },
     "execution_count": 50,
     "metadata": {},
     "output_type": "execute_result"
    }
   ],
   "source": [
    "word.upper()"
   ]
  },
  {
   "cell_type": "code",
   "execution_count": 51,
   "id": "e075bf48-5399-49b6-9263-aee913985e0d",
   "metadata": {},
   "outputs": [
    {
     "data": {
      "text/plain": [
       "'Letters'"
      ]
     },
     "execution_count": 51,
     "metadata": {},
     "output_type": "execute_result"
    }
   ],
   "source": [
    "word.title()"
   ]
  },
  {
   "cell_type": "code",
   "execution_count": 52,
   "id": "fd2dfb4e-59ff-4195-918c-d1d1aab8986c",
   "metadata": {},
   "outputs": [
    {
     "data": {
      "text/plain": [
       "7"
      ]
     },
     "execution_count": 52,
     "metadata": {},
     "output_type": "execute_result"
    }
   ],
   "source": [
    "len(word)"
   ]
  },
  {
   "cell_type": "code",
   "execution_count": 53,
   "id": "05be924c-95cc-4412-8ba9-52f3188ec020",
   "metadata": {},
   "outputs": [
    {
     "data": {
      "text/plain": [
       "2"
      ]
     },
     "execution_count": 53,
     "metadata": {},
     "output_type": "execute_result"
    }
   ],
   "source": [
    "word.count('e')"
   ]
  },
  {
   "cell_type": "code",
   "execution_count": 54,
   "id": "7a5e8bc7-4a83-49cd-846c-ab95cbe73196",
   "metadata": {},
   "outputs": [
    {
     "data": {
      "text/plain": [
       "1"
      ]
     },
     "execution_count": 54,
     "metadata": {},
     "output_type": "execute_result"
    }
   ],
   "source": [
    "word.count('tt')"
   ]
  },
  {
   "cell_type": "code",
   "execution_count": 106,
   "id": "ee31a971-fc22-4362-ae93-db53f450aac0",
   "metadata": {},
   "outputs": [
    {
     "data": {
      "text/plain": [
       "{'h': 1, 'a': 1, 'm': 1, 'l': 1, 'e': 1, 't': 1}"
      ]
     },
     "execution_count": 106,
     "metadata": {},
     "output_type": "execute_result"
    }
   ],
   "source": [
    "# Dictionary Comprehension - 예제\n",
    "letter_counts = {letter: word.count(letter) for letter in word}\n",
    "letter_counts"
   ]
  },
  {
   "cell_type": "code",
   "execution_count": 63,
   "id": "272abc88-c9b4-41ec-b88f-5dcacc02ab11",
   "metadata": {},
   "outputs": [
    {
     "data": {
      "text/plain": [
       "{'a', 'e', 'l', 'p'}"
      ]
     },
     "execution_count": 63,
     "metadata": {},
     "output_type": "execute_result"
    }
   ],
   "source": [
    "# 중복적인 내용을 한 번만 -> unique한 값이 무엇이 있는지 확인\n",
    "set('apple')"
   ]
  },
  {
   "cell_type": "code",
   "execution_count": 62,
   "id": "81eaca2b-b0fb-4160-b8b5-a19a37e4c2c8",
   "metadata": {},
   "outputs": [
    {
     "data": {
      "text/plain": [
       "{1, 2, 3, 4, 5, 6}"
      ]
     },
     "execution_count": 62,
     "metadata": {},
     "output_type": "execute_result"
    }
   ],
   "source": [
    "set([1, 2, 3, 4, 5, 5, 5, 6, 3, 3, 3])"
   ]
  },
  {
   "cell_type": "code",
   "execution_count": 64,
   "id": "0b83d766-8be8-49ca-82f6-fd9478f47167",
   "metadata": {},
   "outputs": [
    {
     "data": {
      "text/plain": [
       "{'e', 'l', 'r', 's', 't'}"
      ]
     },
     "execution_count": 64,
     "metadata": {},
     "output_type": "execute_result"
    }
   ],
   "source": [
    "set(word)"
   ]
  },
  {
   "cell_type": "code",
   "execution_count": 107,
   "id": "f2943994-3b8c-4b87-a0da-7acc8c8c015d",
   "metadata": {},
   "outputs": [
    {
     "data": {
      "text/plain": [
       "{'h': 1, 'e': 1, 't': 1, 'm': 1, 'a': 1, 'l': 1}"
      ]
     },
     "execution_count": 107,
     "metadata": {},
     "output_type": "execute_result"
    }
   ],
   "source": [
    "# 다른 방식으로 코딩\n",
    "letter_counts = {letter: word.count(letter) for letter in set(word)}\n",
    "letter_counts"
   ]
  },
  {
   "cell_type": "code",
   "execution_count": 109,
   "id": "90a2a072-b210-4d37-acac-c8a47c062928",
   "metadata": {},
   "outputs": [],
   "source": [
    "# Set comprehension - 예제\n",
    "a_set = {number for number in range(1,6) if number % 3 == 1}"
   ]
  },
  {
   "cell_type": "code",
   "execution_count": 110,
   "id": "529068c2-3556-45c4-a688-37c16071e4d8",
   "metadata": {},
   "outputs": [
    {
     "data": {
      "text/plain": [
       "{1, 4}"
      ]
     },
     "execution_count": 110,
     "metadata": {},
     "output_type": "execute_result"
    }
   ],
   "source": [
    "a_set"
   ]
  },
  {
   "cell_type": "code",
   "execution_count": 112,
   "id": "edbeb24c-5652-47ed-8591-9d4a617f02d0",
   "metadata": {},
   "outputs": [
    {
     "ename": "NameError",
     "evalue": "name 'is_palindrome' is not defined",
     "output_type": "error",
     "traceback": [
      "\u001b[1;31m---------------------------------------------------------------------------\u001b[0m",
      "\u001b[1;31mNameError\u001b[0m                                 Traceback (most recent call last)",
      "Cell \u001b[1;32mIn[112], line 1\u001b[0m\n\u001b[1;32m----> 1\u001b[0m {word \u001b[38;5;28;01mfor\u001b[39;00m word \u001b[38;5;129;01min\u001b[39;00m hamlet \u001b[38;5;28;01mif\u001b[39;00m \u001b[43mis_palindrome\u001b[49m(word\u001b[38;5;241m.\u001b[39mlower())}\n\u001b[0;32m      3\u001b[0m \u001b[38;5;66;03m## halmet과 is_palindrome에 대한 정의가 필요함\u001b[39;00m\n\u001b[0;32m      4\u001b[0m \u001b[38;5;66;03m## is_palindrome은 함수 정의가 필요 - 회문을 검출하는 기능의 함수\u001b[39;00m\n",
      "\u001b[1;31mNameError\u001b[0m: name 'is_palindrome' is not defined"
     ]
    }
   ],
   "source": [
    "{word for word in hamlet if is_palindrome(word.lower())}\n",
    "\n",
    "## halmet과 is_palindrome에 대한 정의가 필요함\n",
    "## is_palindrome은 함수 정의가 필요 - 회문을 검출하는 기능의 함수"
   ]
  },
  {
   "cell_type": "code",
   "execution_count": 71,
   "id": "0eb70362-5890-4e17-96ac-b62252116542",
   "metadata": {},
   "outputs": [],
   "source": [
    "# Functions – 예제\n",
    "# 덧셈함수\n",
    "\n",
    "def sum(a, b):\n",
    "    return a+b"
   ]
  },
  {
   "cell_type": "code",
   "execution_count": 73,
   "id": "dde44174-082f-4f85-96e1-e9632ca506c5",
   "metadata": {},
   "outputs": [],
   "source": [
    "p = sum(1,1)"
   ]
  },
  {
   "cell_type": "code",
   "execution_count": 74,
   "id": "9f9fa5e6-9d4d-4986-bd76-09ab70e96a05",
   "metadata": {},
   "outputs": [
    {
     "data": {
      "text/plain": [
       "2"
      ]
     },
     "execution_count": 74,
     "metadata": {},
     "output_type": "execute_result"
    }
   ],
   "source": [
    "p"
   ]
  },
  {
   "cell_type": "code",
   "execution_count": 113,
   "id": "ef52b7cf-e11d-44cb-b927-9c3b6f01bdb5",
   "metadata": {},
   "outputs": [
    {
     "data": {
      "text/plain": [
       "3"
      ]
     },
     "execution_count": 113,
     "metadata": {},
     "output_type": "execute_result"
    }
   ],
   "source": [
    "sum(1, 2)"
   ]
  },
  {
   "cell_type": "code",
   "execution_count": 114,
   "id": "2d29a9c6-d94b-4f81-bd67-c9800288cf05",
   "metadata": {},
   "outputs": [
    {
     "data": {
      "text/plain": [
       "4.4"
      ]
     },
     "execution_count": 114,
     "metadata": {},
     "output_type": "execute_result"
    }
   ],
   "source": [
    "sum(1.3, 3.1)"
   ]
  },
  {
   "cell_type": "code",
   "execution_count": 115,
   "id": "7157d002-4cd2-48fe-9d36-c77ae94f1862",
   "metadata": {},
   "outputs": [
    {
     "data": {
      "text/plain": [
       "'love python'"
      ]
     },
     "execution_count": 115,
     "metadata": {},
     "output_type": "execute_result"
    }
   ],
   "source": [
    "sum('love ', 'python')"
   ]
  },
  {
   "cell_type": "code",
   "execution_count": 116,
   "id": "ea215dbe-7195-44a0-bfed-f92cc1b41302",
   "metadata": {},
   "outputs": [],
   "source": [
    "# • zip을 이용한 순회 – zip 이라는 함수를 이용하여 여러 시퀀스를 병렬로 순회할 수 있음\n",
    "\n",
    "days = ['Monday', 'Tuesday', 'Wednesday']\n",
    "fruits = ['banana', 'orange', 'peach']\n",
    "drinks = ['coffee', 'tea', 'beer']\n",
    "desserts = ['tiramisu', 'ice cream', 'pie', 'pudding']"
   ]
  },
  {
   "cell_type": "code",
   "execution_count": 81,
   "id": "089ac176-848c-48ca-a4b8-8d1706136e22",
   "metadata": {},
   "outputs": [
    {
     "name": "stdout",
     "output_type": "stream",
     "text": [
      "Monday : drink coffee - eat banana - enjoy tiramisu\n",
      "Tuesday : drink tea - eat orange - enjoy ice cream\n",
      "Wednesday : drink beer - eat peach - enjoy pie\n"
     ]
    }
   ],
   "source": [
    "for day, fruit, drink, dessert in zip(days, fruits, drinks, desserts):\n",
    "    print(day, \": drink\", drink, \"- eat\", fruit, \"- enjoy\", dessert)"
   ]
  },
  {
   "cell_type": "code",
   "execution_count": 85,
   "id": "9a6b03c3-d27e-447d-89a4-758e28a80b32",
   "metadata": {},
   "outputs": [
    {
     "data": {
      "text/plain": [
       "[('Monday', 'banana', 'coffee', 'tiramisu'),\n",
       " ('Tuesday', 'orange', 'tea', 'ice cream'),\n",
       " ('Wednesday', 'peach', 'beer', 'pie')]"
      ]
     },
     "execution_count": 85,
     "metadata": {},
     "output_type": "execute_result"
    }
   ],
   "source": [
    "list(zip(days, fruits, drinks, desserts))"
   ]
  },
  {
   "cell_type": "code",
   "execution_count": 117,
   "id": "06af7efa-4a2f-4031-9d33-d815829867c7",
   "metadata": {},
   "outputs": [],
   "source": [
    "# zip을 이용하여 영어-프랑스 사전 만들기\n",
    "english = 'Monday', 'Tuesday', 'Wednesday'"
   ]
  },
  {
   "cell_type": "code",
   "execution_count": 87,
   "id": "e0013ae5-1c6e-487b-8dcb-d5043aae3f2c",
   "metadata": {},
   "outputs": [
    {
     "data": {
      "text/plain": [
       "('Monday', 'Tuesday', 'Wednesday')"
      ]
     },
     "execution_count": 87,
     "metadata": {},
     "output_type": "execute_result"
    }
   ],
   "source": [
    "english"
   ]
  },
  {
   "cell_type": "code",
   "execution_count": 88,
   "id": "c80f99d5-2281-4558-9a15-05767d701a1a",
   "metadata": {},
   "outputs": [
    {
     "data": {
      "text/plain": [
       "('Lundi', 'Mardi', 'Mercredi')"
      ]
     },
     "execution_count": 88,
     "metadata": {},
     "output_type": "execute_result"
    }
   ],
   "source": [
    "french = 'Lundi', 'Mardi', 'Mercredi'\n",
    "french"
   ]
  },
  {
   "cell_type": "code",
   "execution_count": 89,
   "id": "3ff9dd43-e8b9-451f-8ec6-3deb5158bc81",
   "metadata": {},
   "outputs": [
    {
     "data": {
      "text/plain": [
       "[('Monday', 'Lundi'), ('Tuesday', 'Mardi'), ('Wednesday', 'Mercredi')]"
      ]
     },
     "execution_count": 89,
     "metadata": {},
     "output_type": "execute_result"
    }
   ],
   "source": [
    "list(zip(english, french))"
   ]
  },
  {
   "cell_type": "code",
   "execution_count": 90,
   "id": "875cf5a3-d13f-4012-bd1a-fc47c759eb15",
   "metadata": {},
   "outputs": [
    {
     "data": {
      "text/plain": [
       "{'Monday': 'Lundi', 'Tuesday': 'Mardi', 'Wednesday': 'Mercredi'}"
      ]
     },
     "execution_count": 90,
     "metadata": {},
     "output_type": "execute_result"
    }
   ],
   "source": [
    "dict(zip(english, french))"
   ]
  },
  {
   "cell_type": "code",
   "execution_count": 119,
   "id": "f8b9fbb7-0b4b-415d-8a82-e247cc187e68",
   "metadata": {},
   "outputs": [],
   "source": [
    "# 함수 위치 인자\n",
    "# wine, entree, dessert를 받아서 딕셔너리로 만들어 반환하는 함수\n",
    "\n",
    "def menu(wine, entree, dessert):\n",
    "    return {'wine': wine, 'entree': entree, 'dessert': dessert}"
   ]
  },
  {
   "cell_type": "code",
   "execution_count": 120,
   "id": "c6b5e662-2231-401d-a5f3-95ab00375ee7",
   "metadata": {},
   "outputs": [
    {
     "data": {
      "text/plain": [
       "{'wine': 'chardonnay', 'entree': 'chicken', 'dessert': 'cake'}"
      ]
     },
     "execution_count": 120,
     "metadata": {},
     "output_type": "execute_result"
    }
   ],
   "source": [
    "menu('chardonnay', 'chicken', 'cake')"
   ]
  },
  {
   "cell_type": "code",
   "execution_count": 123,
   "id": "fa84fe72-9a5a-495b-a784-02f0f6ae8782",
   "metadata": {},
   "outputs": [],
   "source": [
    "# 함수 키워드 인자\n",
    "# wine, entree, dessert를 받아서 딕셔너리로 만들어 반환하는 함수\n",
    "\n",
    "def menu(wine, entree, dessert):\n",
    "    return {'wine': wine, 'entree': entree, 'dessert': dessert}"
   ]
  },
  {
   "cell_type": "code",
   "execution_count": 125,
   "id": "6c5b93a6-2735-4b2b-bcad-0238c9042b8a",
   "metadata": {},
   "outputs": [
    {
     "data": {
      "text/plain": [
       "{'wine': 'bordeaux', 'entree': 'beef', 'dessert': 'bagel'}"
      ]
     },
     "execution_count": 125,
     "metadata": {},
     "output_type": "execute_result"
    }
   ],
   "source": [
    " menu(entree='beef', dessert='bagel', wine='bordeaux')"
   ]
  },
  {
   "cell_type": "code",
   "execution_count": 126,
   "id": "d9280e62-d8ab-4d8c-9058-7f5293b1b227",
   "metadata": {},
   "outputs": [
    {
     "data": {
      "text/plain": [
       "{'wine': 'frontenac', 'entree': 'fish', 'dessert': 'flan'}"
      ]
     },
     "execution_count": 126,
     "metadata": {},
     "output_type": "execute_result"
    }
   ],
   "source": [
    "menu('frontenac', dessert='flan', entree='fish')"
   ]
  },
  {
   "cell_type": "code",
   "execution_count": 128,
   "id": "2d2d3dba-7999-43be-b4c3-a49bb6a09782",
   "metadata": {},
   "outputs": [],
   "source": [
    "# 기본 매개변수 값 정하기\n",
    "# dessert의 기본값을 정해줌\n",
    "\n",
    "def menu(wine, entree, dessert='pudding'):\n",
    "    return {'wine': wine, 'entree': entree, 'dessert': dessert}"
   ]
  },
  {
   "cell_type": "code",
   "execution_count": 129,
   "id": "2b45291e-b11f-496b-bb19-5007417ab22f",
   "metadata": {},
   "outputs": [
    {
     "data": {
      "text/plain": [
       "{'wine': 'chardonnay', 'entree': 'chicken', 'dessert': 'pudding'}"
      ]
     },
     "execution_count": 129,
     "metadata": {},
     "output_type": "execute_result"
    }
   ],
   "source": [
    "menu('chardonnay', 'chicken')"
   ]
  },
  {
   "cell_type": "code",
   "execution_count": 130,
   "id": "adb19a51-2281-4c5b-aff4-a0b96186a159",
   "metadata": {},
   "outputs": [
    {
     "data": {
      "text/plain": [
       "{'wine': 'dunkelfelder', 'entree': 'duck', 'dessert': 'doughnut'}"
      ]
     },
     "execution_count": 130,
     "metadata": {},
     "output_type": "execute_result"
    }
   ],
   "source": [
    "menu('dunkelfelder', 'duck', 'doughnut')"
   ]
  },
  {
   "cell_type": "code",
   "execution_count": 132,
   "id": "b0e212ed-f095-4a8a-9278-0e6e689b552e",
   "metadata": {},
   "outputs": [],
   "source": [
    "def menu(price, wine='chardonnay', entree='chicken', dessert='pudding'):\n",
    "    return {'price': price, 'wine': wine, 'entree': entree, 'dessert': dessert}"
   ]
  },
  {
   "cell_type": "code",
   "execution_count": 139,
   "id": "3b00db91-fbf2-424c-a70e-4645d8c60d13",
   "metadata": {},
   "outputs": [
    {
     "data": {
      "text/plain": [
       "{'price': 100, 'wine': 'chardonnay', 'entree': 'chicken', 'dessert': 'pudding'}"
      ]
     },
     "execution_count": 139,
     "metadata": {},
     "output_type": "execute_result"
    }
   ],
   "source": [
    "# 다음과 같은 호출이 가능함\n",
    "menu(100) # 1 위치 인자"
   ]
  },
  {
   "cell_type": "code",
   "execution_count": 140,
   "id": "5413745a-fa9a-4c15-bd8e-b76a8da32aeb",
   "metadata": {},
   "outputs": [
    {
     "data": {
      "text/plain": [
       "{'price': 100, 'wine': 'chardonnay', 'entree': 'chicken', 'dessert': 'pudding'}"
      ]
     },
     "execution_count": 140,
     "metadata": {},
     "output_type": "execute_result"
    }
   ],
   "source": [
    "menu(price=100) # 1 키워드 인자"
   ]
  },
  {
   "cell_type": "code",
   "execution_count": 141,
   "id": "39ca360d-644e-466a-9491-9c03379f82f3",
   "metadata": {},
   "outputs": [
    {
     "data": {
      "text/plain": [
       "{'price': 120, 'wine': 'chardonnay', 'entree': 'beef', 'dessert': 'pudding'}"
      ]
     },
     "execution_count": 141,
     "metadata": {},
     "output_type": "execute_result"
    }
   ],
   "source": [
    "menu(price=120, entree='beef') # 2 키워드 인자"
   ]
  },
  {
   "cell_type": "code",
   "execution_count": 142,
   "id": "f7fffc19-56b5-4cc7-9e1f-56d442200832",
   "metadata": {},
   "outputs": [
    {
     "data": {
      "text/plain": [
       "{'price': 110, 'wine': 'chardonnay', 'entree': 'chicken', 'dessert': 'bagel'}"
      ]
     },
     "execution_count": 142,
     "metadata": {},
     "output_type": "execute_result"
    }
   ],
   "source": [
    "menu(dessert='bagel', price=110) # 2 키워드 인자"
   ]
  },
  {
   "cell_type": "code",
   "execution_count": 143,
   "id": "08b1b72c-1e70-4e8e-add3-6b248be3c183",
   "metadata": {},
   "outputs": [
    {
     "data": {
      "text/plain": [
       "{'price': 'eighty',\n",
       " 'wine': 'saint-pierre',\n",
       " 'entree': 'fish',\n",
       " 'dessert': 'pudding'}"
      ]
     },
     "execution_count": 143,
     "metadata": {},
     "output_type": "execute_result"
    }
   ],
   "source": [
    "menu('eighty', 'saint-pierre', 'fish') # 3 위치 인자"
   ]
  },
  {
   "cell_type": "code",
   "execution_count": 144,
   "id": "578afc6b-ec1a-4144-a2c8-01d5285881d4",
   "metadata": {},
   "outputs": [
    {
     "data": {
      "text/plain": [
       "{'price': 'hundred',\n",
       " 'wine': 'saint-pierre',\n",
       " 'entree': 'chicken',\n",
       " 'dessert': 'pudding'}"
      ]
     },
     "execution_count": 144,
     "metadata": {},
     "output_type": "execute_result"
    }
   ],
   "source": [
    "menu('hundred', wine='saint-pierre') # 1 위치 인자, 1 키워드 인자"
   ]
  },
  {
   "cell_type": "code",
   "execution_count": 145,
   "id": "26b867cd-a2ca-4915-bf2f-5119096a226a",
   "metadata": {},
   "outputs": [
    {
     "ename": "TypeError",
     "evalue": "menu() missing 1 required positional argument: 'price'",
     "output_type": "error",
     "traceback": [
      "\u001b[1;31m---------------------------------------------------------------------------\u001b[0m",
      "\u001b[1;31mTypeError\u001b[0m                                 Traceback (most recent call last)",
      "Cell \u001b[1;32mIn[145], line 2\u001b[0m\n\u001b[0;32m      1\u001b[0m \u001b[38;5;66;03m# 다음과 같은 호출은 불가능함\u001b[39;00m\n\u001b[1;32m----> 2\u001b[0m \u001b[43mmenu\u001b[49m\u001b[43m(\u001b[49m\u001b[43m)\u001b[49m \u001b[38;5;66;03m# price에 인자가 할당이 안됨\u001b[39;00m\n",
      "\u001b[1;31mTypeError\u001b[0m: menu() missing 1 required positional argument: 'price'"
     ]
    }
   ],
   "source": [
    "# 다음과 같은 호출은 불가능함\n",
    "menu() # price에 인자가 할당이 안됨"
   ]
  },
  {
   "cell_type": "code",
   "execution_count": 146,
   "id": "90370c64-f07f-4c2b-848e-ad19ac759412",
   "metadata": {},
   "outputs": [
    {
     "ename": "SyntaxError",
     "evalue": "positional argument follows keyword argument (87699198.py, line 1)",
     "output_type": "error",
     "traceback": [
      "\u001b[1;36m  Cell \u001b[1;32mIn[146], line 1\u001b[1;36m\u001b[0m\n\u001b[1;33m    menu(price=100, 'saint-pierre') # 키워드 인자 할당 후, 위치 인자\u001b[0m\n\u001b[1;37m                                  ^\u001b[0m\n\u001b[1;31mSyntaxError\u001b[0m\u001b[1;31m:\u001b[0m positional argument follows keyword argument\n"
     ]
    }
   ],
   "source": [
    "menu(price=100, 'saint-pierre') # 키워드 인자 할당 후, 위치 인자"
   ]
  },
  {
   "cell_type": "code",
   "execution_count": 147,
   "id": "1d738980-4866-4fa8-baab-0c758bbefc1f",
   "metadata": {},
   "outputs": [
    {
     "ename": "TypeError",
     "evalue": "menu() got multiple values for argument 'price'",
     "output_type": "error",
     "traceback": [
      "\u001b[1;31m---------------------------------------------------------------------------\u001b[0m",
      "\u001b[1;31mTypeError\u001b[0m                                 Traceback (most recent call last)",
      "Cell \u001b[1;32mIn[147], line 1\u001b[0m\n\u001b[1;32m----> 1\u001b[0m \u001b[43mmenu\u001b[49m\u001b[43m(\u001b[49m\u001b[38;5;241;43m100\u001b[39;49m\u001b[43m,\u001b[49m\u001b[43m \u001b[49m\u001b[43mprice\u001b[49m\u001b[38;5;241;43m=\u001b[39;49m\u001b[38;5;241;43m120\u001b[39;49m\u001b[43m)\u001b[49m \u001b[38;5;66;03m# 같은 변수에 두 번 할당\u001b[39;00m\n",
      "\u001b[1;31mTypeError\u001b[0m: menu() got multiple values for argument 'price'"
     ]
    }
   ],
   "source": [
    "menu(100, price=120) # 같은 변수에 두 번 할당"
   ]
  },
  {
   "cell_type": "code",
   "execution_count": 148,
   "id": "6f93e3ab-b093-48ac-b3ab-87b9282595cd",
   "metadata": {},
   "outputs": [
    {
     "ename": "TypeError",
     "evalue": "menu() got an unexpected keyword argument 'main'",
     "output_type": "error",
     "traceback": [
      "\u001b[1;31m---------------------------------------------------------------------------\u001b[0m",
      "\u001b[1;31mTypeError\u001b[0m                                 Traceback (most recent call last)",
      "Cell \u001b[1;32mIn[148], line 1\u001b[0m\n\u001b[1;32m----> 1\u001b[0m \u001b[43mmenu\u001b[49m\u001b[43m(\u001b[49m\u001b[43mmain\u001b[49m\u001b[38;5;241;43m=\u001b[39;49m\u001b[38;5;124;43m'\u001b[39;49m\u001b[38;5;124;43mcream pasta\u001b[39;49m\u001b[38;5;124;43m'\u001b[39;49m\u001b[43m)\u001b[49m \u001b[38;5;66;03m# 정의되지 않은 매개변수\u001b[39;00m\n",
      "\u001b[1;31mTypeError\u001b[0m: menu() got an unexpected keyword argument 'main'"
     ]
    }
   ],
   "source": [
    "menu(main='cream pasta') # 정의되지 않은 매개변수"
   ]
  },
  {
   "cell_type": "code",
   "execution_count": 149,
   "id": "18078bdb-8332-479d-9a91-9d0e9293c847",
   "metadata": {},
   "outputs": [],
   "source": [
    "# docstring\n",
    "def echo(anything):\n",
    "    'echo returns its input argument'\n",
    "    return anything"
   ]
  },
  {
   "cell_type": "code",
   "execution_count": 150,
   "id": "d17013b2-4bb7-46b5-94a7-adde12f86f04",
   "metadata": {},
   "outputs": [],
   "source": [
    "def print_if_true(thing, check):\n",
    "    \"\"\"\n",
    "    Prints the first argument if a second argument is true.\n",
    "    The operation is:\n",
    "        1. Check whether the *second* argument is true.\n",
    "        2. If it is, print the *first* argument.\n",
    "    \"\"\"\n",
    "    if check:\n",
    "        print(thing)"
   ]
  },
  {
   "cell_type": "code",
   "execution_count": 151,
   "id": "7cade25c-5f7e-4cd1-81d8-c7876846dc40",
   "metadata": {},
   "outputs": [
    {
     "name": "stdout",
     "output_type": "stream",
     "text": [
      "Help on function echo in module __main__:\n",
      "\n",
      "echo(anything)\n",
      "    echo returns its input argument\n",
      "\n"
     ]
    }
   ],
   "source": [
    "# help() 함수를 호출하여 내용을 출력할수 있음\n",
    "help(echo)"
   ]
  },
  {
   "cell_type": "code",
   "execution_count": 152,
   "id": "bf3a3929-4881-453e-a51d-a93a22d529ef",
   "metadata": {},
   "outputs": [
    {
     "name": "stdout",
     "output_type": "stream",
     "text": [
      "echo returns its input argument\n"
     ]
    }
   ],
   "source": [
    "print(echo.__doc__)"
   ]
  },
  {
   "cell_type": "code",
   "execution_count": null,
   "id": "220c7a8c-68f0-4bbf-a6cd-d268283e2251",
   "metadata": {},
   "outputs": [],
   "source": []
  }
 ],
 "metadata": {
  "kernelspec": {
   "display_name": "Python 3 (ipykernel)",
   "language": "python",
   "name": "python3"
  },
  "language_info": {
   "codemirror_mode": {
    "name": "ipython",
    "version": 3
   },
   "file_extension": ".py",
   "mimetype": "text/x-python",
   "name": "python",
   "nbconvert_exporter": "python",
   "pygments_lexer": "ipython3",
   "version": "3.12.3"
  }
 },
 "nbformat": 4,
 "nbformat_minor": 5
}
